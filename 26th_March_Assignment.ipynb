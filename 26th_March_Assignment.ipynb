{
 "cells": [
  {
   "cell_type": "markdown",
   "id": "dcc809df-8871-44ec-a32a-e125521039e6",
   "metadata": {},
   "source": [
    "Q1. Explain the difference between simple linear regression and multiple linear regression. Provide an\n",
    "example of each."
   ]
  },
  {
   "cell_type": "markdown",
   "id": "82766597-aa1f-423e-af5f-36caba752eee",
   "metadata": {},
   "source": [
    "=> Simple linear regression has only one x and one y variable.                            \n",
    "\n",
    "Multiple linear regression has one y and two or more x variables.                                                \n",
    "\n",
    "For instance, when we predict rent based on square feet alone that is simple linear regression.                            \n",
    "\n",
    "When we predict rent based on square feet and age of the building that is an example of multiple linear regression.           "
   ]
  },
  {
   "cell_type": "markdown",
   "id": "f1e15c99-7e25-48e6-bdf8-66456034a016",
   "metadata": {},
   "source": [
    "Q2. Discuss the assumptions of linear regression. How can you check whether these assumptions hold in\n",
    "a given dataset?                                                                           \n",
    "\n",
    "=> There are primarily five assumptions of linear regression. They are:                                          \n",
    "\n",
    "There is a linear relationship between the predictors (x) and the outcome (y)                                        \n",
    "Predictors (x) are independent and observed with negligible error                                                    \n",
    "Residual Errors have a mean value of zero                                                                              \n",
    "Residual Errors have constant variance                                                                                    \n",
    "Residual Errors are independent from each other and predictors (x)                                                                                                                 \n",
    "we verify the assumptions using plots in python"
   ]
  },
  {
   "cell_type": "markdown",
   "id": "450852d8-7633-418e-a453-d6d6b0fc5d95",
   "metadata": {},
   "source": [
    "Q3. How do you interpret the slope and intercept in a linear regression model? Provide an example using\n",
    "a real-world scenario."
   ]
  },
  {
   "cell_type": "markdown",
   "id": "c6a93139-0f42-4250-b0db-01173d211463",
   "metadata": {},
   "source": [
    "slopeis defined as rate of change of y withresoect to x.                                   \n",
    "intercept is the point where the graph meets the y-axis.                                                  \n",
    "if equation of a line is 2 + 5x.                                                       \n",
    "then 2 is intercept and slope is 5.                                                  "
   ]
  },
  {
   "cell_type": "markdown",
   "id": "9f1ad8f5-ed23-43bc-83b4-b6f30334ea77",
   "metadata": {},
   "source": [
    "Q4. Explain the concept of gradient descent. How is it used in machine learning?"
   ]
  },
  {
   "cell_type": "markdown",
   "id": "807cad3e-daa4-44b2-a747-859184c5a082",
   "metadata": {},
   "source": [
    "Gradient descent is an optimization algorithm which is commonly-used to train machine learning models and neural networks. Training data helps these models learn over time, and the cost function within gradient descent specifically acts as a barometer, gauging its accuracy with each iteration of parameter updates."
   ]
  },
  {
   "cell_type": "markdown",
   "id": "1edafcea-c82b-46cf-96ac-c9eef47db386",
   "metadata": {},
   "source": [
    "Q5. Describe the multiple linear regression model. How does it differ from simple linear regression?"
   ]
  },
  {
   "cell_type": "markdown",
   "id": "45b84177-62dd-4e09-8bae-0b6313cbaed8",
   "metadata": {},
   "source": [
    "Multiple Regression                                                                                      \n",
    "For complex connections between data, the relationship might be explained by more than one variable. In this case, an analyst uses multiple regression which attempts to explain a dependent variable using more than one independent variable.           \n",
    "\n",
    "There are two main uses for multiple regression analysis. The first is to determine the dependent variable based on multiple independent variables."
   ]
  },
  {
   "cell_type": "markdown",
   "id": "086b7531-c6e5-4887-b4d4-80581df1d202",
   "metadata": {},
   "source": [
    "Simple linear regression has only one x and one y variable.                                                               \n",
    "\n",
    "Multiple linear regression has one y and two or more x variables."
   ]
  },
  {
   "cell_type": "markdown",
   "id": "96f5b0a4-fb80-4fb6-bfb6-30a6e2353e38",
   "metadata": {},
   "source": [
    "Q6. Explain the concept of multicollinearity in multiple linear regression. How can you detect and\n",
    "address this issue?"
   ]
  },
  {
   "cell_type": "markdown",
   "id": "e04599ed-2679-4315-942b-d74dfdad3679",
   "metadata": {},
   "source": [
    "Multicollinearity occurs when independent variables in a regression model are correlated. This correlation is a problem because independent variables should be independent. If the degree of correlation between variables is high enough, it can cause problems when you fit the model and interpret the results.\n",
    "\n"
   ]
  },
  {
   "cell_type": "markdown",
   "id": "5afde334-0b2f-421d-87a6-ccfaf9e1fdd2",
   "metadata": {},
   "source": [
    "How to check whether Multi-Collinearity occurs?                                                                                                          \n",
    "The first simple method is to plot the correlation matrix of all the independent variables.                                         \n",
    "The second method to check multi-collinearity is to use the Variance Inflation Factor(VIF) for each independent variable."
   ]
  },
  {
   "cell_type": "markdown",
   "id": "86f04351-e8cf-4322-ae33-cde907af7fc9",
   "metadata": {},
   "source": [
    "Q7. Describe the polynomial regression model. How is it different from linear regression?"
   ]
  },
  {
   "cell_type": "markdown",
   "id": "a82a67db-919d-4738-91e8-209b281ba5f9",
   "metadata": {},
   "source": [
    "Polynomial regression is a type of regression analysis that is used when the relationship between the dependent and independent variables is not linear. It involves fitting a polynomial function to the data points to obtain a curve that represents the relationship between the variables.                                              \n",
    "\n",
    "The equation for a polynomial regression model can be written as:                                                  \n",
    "\n",
    "Y = a + b1X + b2X^2 + ... + bnx^n                                                                                \n",
    "\n",
    "The goal of polynomial regression is to find the best fit curve that represents the relationship between the variables. This curve is obtained by minimizing the sum of the squared residuals between the predicted values and the actual values."
   ]
  },
  {
   "cell_type": "markdown",
   "id": "1e8b1366-aa83-4c98-9adf-a27bfe3d453a",
   "metadata": {},
   "source": [
    "Polynomial regression is a form of Linear regression where only due to the Non-linear relationship between dependent and independent variables, we add some polynomial terms to linear regression to convert it into Polynomial regression."
   ]
  },
  {
   "cell_type": "markdown",
   "id": "65ce390e-b073-45ac-87fe-a722ec39a360",
   "metadata": {},
   "source": [
    "Q8. What are the advantages and disadvantages of polynomial regression compared to linear\n",
    "regression? In what situations would you prefer to use polynomial regression?"
   ]
  },
  {
   "cell_type": "markdown",
   "id": "1be05be1-82f1-4e61-bf53-a62de9f2695c",
   "metadata": {},
   "source": [
    "Advantages of using Polynomial Regression:\n",
    "Polynomial provides the best approximation of the relationship between the dependent and independent variable. A Broad range of function can be fit under it. Polynomial basically fits a wide range of curvature."
   ]
  },
  {
   "cell_type": "markdown",
   "id": "6a338b7d-fe82-470e-b70d-059de51d32e3",
   "metadata": {},
   "source": [
    " Disadvantages include a strong sensitivity to outliers. The presence of one or two outliers in the data can seriously affect the results of a nonlinear analysis"
   ]
  },
  {
   "cell_type": "markdown",
   "id": "d7d94e0e-f6da-4138-9d5f-f4bc7f3009ff",
   "metadata": {},
   "source": [
    "Polynomial regression is used when there is no linear correlation between the variables"
   ]
  }
 ],
 "metadata": {
  "kernelspec": {
   "display_name": "Python 3 (ipykernel)",
   "language": "python",
   "name": "python3"
  },
  "language_info": {
   "codemirror_mode": {
    "name": "ipython",
    "version": 3
   },
   "file_extension": ".py",
   "mimetype": "text/x-python",
   "name": "python",
   "nbconvert_exporter": "python",
   "pygments_lexer": "ipython3",
   "version": "3.10.8"
  }
 },
 "nbformat": 4,
 "nbformat_minor": 5
}
